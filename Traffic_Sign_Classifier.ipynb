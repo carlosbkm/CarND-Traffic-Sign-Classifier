{
 "cells": [
  {
   "cell_type": "markdown",
   "metadata": {
    "deletable": true,
    "editable": true
   },
   "source": [
    "# Self-Driving Car Engineer Nanodegree\n",
    "\n",
    "## Deep Learning\n",
    "\n",
    "## Project: Build a Traffic Sign Recognition Classifier\n",
    "\n",
    "In this notebook, a template is provided for you to implement your functionality in stages, which is required to successfully complete this project. If additional code is required that cannot be included in the notebook, be sure that the Python code is successfully imported and included in your submission if necessary. \n",
    "\n",
    "> **Note**: Once you have completed all of the code implementations, you need to finalize your work by exporting the iPython Notebook as an HTML document. Before exporting the notebook to html, all of the code cells need to have been run so that reviewers can see the final implementation and output. You can then export the notebook by using the menu above and navigating to  \\n\",\n",
    "    \"**File -> Download as -> HTML (.html)**. Include the finished document along with this notebook as your submission. \n",
    "\n",
    "In addition to implementing code, there is a writeup to complete. The writeup should be completed in a separate file, which can be either a markdown file or a pdf document. There is a [write up template](https://github.com/udacity/CarND-Traffic-Sign-Classifier-Project/blob/master/writeup_template.md) that can be used to guide the writing process. Completing the code template and writeup template will cover all of the [rubric points](https://review.udacity.com/#!/rubrics/481/view) for this project.\n",
    "\n",
    "The [rubric](https://review.udacity.com/#!/rubrics/481/view) contains \"Stand Out Suggestions\" for enhancing the project beyond the minimum requirements. The stand out suggestions are optional. If you decide to pursue the \"stand out suggestions\", you can include the code in this Ipython notebook and also discuss the results in the writeup file.\n",
    "\n",
    "\n",
    ">**Note:** Code and Markdown cells can be executed using the **Shift + Enter** keyboard shortcut. In addition, Markdown cells can be edited by typically double-clicking the cell to enter edit mode."
   ]
  },
  {
   "cell_type": "markdown",
   "metadata": {
    "deletable": true,
    "editable": true
   },
   "source": [
    "---\n",
    "## Step 0: Load The Data"
   ]
  },
  {
   "cell_type": "code",
   "execution_count": 1,
   "metadata": {
    "collapsed": false,
    "deletable": true,
    "editable": true
   },
   "outputs": [],
   "source": [
    "# Load pickled data\n",
    "import pickle\n",
    "import csv\n",
    "\n",
    "# TODO: Fill this in based on where you saved the training and testing data\n",
    "\n",
    "training_file = 'train.p'\n",
    "validation_file= 'valid.p'\n",
    "testing_file = 'test.p'\n",
    "\n",
    "def load_sign_names (sign_names_file):\n",
    "    signames = []\n",
    "    with open(sign_names_file) as _f:\n",
    "        rows = csv.reader(_f, delimiter=',')\n",
    "        next(rows, None)  # skip the headers\n",
    "        for i, row in enumerate(rows):\n",
    "            assert(i==int(row[0]))\n",
    "            signames.append(row[1])\n",
    "    return signames\n",
    "\n",
    "\n",
    "with open(training_file, mode='rb') as f:\n",
    "    train = pickle.load(f)\n",
    "with open(validation_file, mode='rb') as f:\n",
    "    valid = pickle.load(f)\n",
    "with open(testing_file, mode='rb') as f:\n",
    "    test = pickle.load(f)\n",
    "    \n",
    "X_train, y_train = train['features'], train['labels']\n",
    "X_valid, y_valid = valid['features'], valid['labels']\n",
    "X_test, y_test = test['features'], test['labels']\n",
    "sign_names = load_sign_names('signnames.csv')"
   ]
  },
  {
   "cell_type": "markdown",
   "metadata": {
    "deletable": true,
    "editable": true
   },
   "source": [
    "---\n",
    "\n",
    "## Step 1: Dataset Summary & Exploration\n",
    "\n",
    "The pickled data is a dictionary with 4 key/value pairs:\n",
    "\n",
    "- `'features'` is a 4D array containing raw pixel data of the traffic sign images, (num examples, width, height, channels).\n",
    "- `'labels'` is a 1D array containing the label/class id of the traffic sign. The file `signnames.csv` contains id -> name mappings for each id.\n",
    "- `'sizes'` is a list containing tuples, (width, height) representing the original width and height the image.\n",
    "- `'coords'` is a list containing tuples, (x1, y1, x2, y2) representing coordinates of a bounding box around the sign in the image. **THESE COORDINATES ASSUME THE ORIGINAL IMAGE. THE PICKLED DATA CONTAINS RESIZED VERSIONS (32 by 32) OF THESE IMAGES**\n",
    "\n",
    "Complete the basic data summary below. Use python, numpy and/or pandas methods to calculate the data summary rather than hard coding the results. For example, the [pandas shape method](http://pandas.pydata.org/pandas-docs/stable/generated/pandas.DataFrame.shape.html) might be useful for calculating some of the summary results. "
   ]
  },
  {
   "cell_type": "markdown",
   "metadata": {
    "deletable": true,
    "editable": true
   },
   "source": [
    "### Provide a Basic Summary of the Data Set Using Python, Numpy and/or Pandas"
   ]
  },
  {
   "cell_type": "code",
   "execution_count": 2,
   "metadata": {
    "collapsed": false,
    "deletable": true,
    "editable": true
   },
   "outputs": [
    {
     "name": "stdout",
     "output_type": "stream",
     "text": [
      "Number of training samples = 34799\n",
      "Number of testing samples = 12630\n",
      "Number of cross validation samples = 4410\n",
      "Image data shape = (32, 32, 3)\n",
      "Number of classes = 43\n"
     ]
    }
   ],
   "source": [
    "### Replace each question mark with the appropriate value. \n",
    "### Use python, pandas or numpy methods rather than hard coding the results\n",
    "import numpy as np\n",
    "\n",
    "# TODO: Number of training examples\n",
    "n_train = X_train.shape[0]\n",
    "\n",
    "# TODO: Number of testing examples.\n",
    "n_test = X_test.shape[0]\n",
    "\n",
    "# TODO: What's the shape of an traffic sign image?\n",
    "image_shape = X_train[0].shape\n",
    "\n",
    "# TODO: How many unique classes/labels there are in the dataset.\n",
    "#n_classes = y_train[0]\n",
    "n_classes = np.unique(y_train).size\n",
    "\n",
    "n_valid = X_valid.shape[0]\n",
    "\n",
    "print(\"Number of training samples =\", n_train)\n",
    "print(\"Number of testing samples =\", n_test)\n",
    "print(\"Number of cross validation samples =\", n_valid)\n",
    "print(\"Image data shape =\", image_shape)\n",
    "print(\"Number of classes =\", n_classes)"
   ]
  },
  {
   "cell_type": "markdown",
   "metadata": {
    "deletable": true,
    "editable": true
   },
   "source": [
    "### Include an exploratory visualization of the dataset"
   ]
  },
  {
   "cell_type": "markdown",
   "metadata": {
    "deletable": true,
    "editable": true
   },
   "source": [
    "Visualize the German Traffic Signs Dataset using the pickled file(s). This is open ended, suggestions include: plotting traffic sign images, plotting the count of each sign, etc.\n",
    "\n",
    "The [Matplotlib](http://matplotlib.org/) [examples](http://matplotlib.org/examples/index.html) and [gallery](http://matplotlib.org/gallery.html) pages are a great resource for doing visualizations in Python.\n",
    "\n",
    "**NOTE:** It's recommended you start with something simple first. If you wish to do more, come back to it after you've completed the rest of the sections."
   ]
  },
  {
   "cell_type": "code",
   "execution_count": 3,
   "metadata": {
    "collapsed": false,
    "deletable": true,
    "editable": true
   },
   "outputs": [
    {
     "data": {
      "image/png": "[encoded data removed]",
      "text/plain": [
       "<matplotlib.figure.Figure at 0x7fbe32a460f0>"
      ]
     },
     "metadata": {},
     "output_type": "display_data"
    }
   ],
   "source": [
    "### Data exploration visualization code goes here.\n",
    "### Feel free to use as many code cells as needed.\n",
    "import random\n",
    "import numpy as np\n",
    "import matplotlib.pyplot as plt\n",
    "%matplotlib inline\n",
    "\n",
    "def show_images_horizontally(list_of_images, number=10, gray=False):\n",
    "    max_number_per_row = number\n",
    "    fig = plt.figure(figsize=(18,18))\n",
    "    count = len(list_of_images)\n",
    "    for i in range(0, max_number_per_row):\n",
    "        a=fig.add_subplot(1,max_number_per_row, i+1)\n",
    "        index = random.randint(0, len(list_of_images))\n",
    "        image = list_of_images[index].squeeze()\n",
    "        if(gray): \n",
    "            plt.imshow(image, cmap='gray')\n",
    "        else:\n",
    "            plt.imshow(image)\n",
    "      \n",
    "        \n",
    "show_images_horizontally(X_train)\n"
   ]
  },
  {
   "cell_type": "code",
   "execution_count": 4,
   "metadata": {
    "collapsed": false,
    "deletable": true,
    "editable": true
   },
   "outputs": [
    {
     "data": {
      "image/png": "[encoded data removed]",
      "text/plain": [
       "<matplotlib.figure.Figure at 0x7fbe32b21e80>"
      ]
     },
     "metadata": {},
     "output_type": "display_data"
    }
   ],
   "source": [
    "import numpy as np\n",
    "\n",
    "# plot the classes distribution of the images\n",
    "\n",
    "def plot_image_classes_distribution(y_dataset, number_of_classes):\n",
    "    y_pos = range(number_of_classes)\n",
    "    classes_list = y_dataset.tolist()\n",
    "    sign_type = [classes_list.count(y) for y in range(number_of_classes)]\n",
    "\n",
    "    plt.figure(figsize=(20,5))\n",
    "    plt.bar(y_pos, sign_type, width=0.9, align='center')\n",
    "    plt.ylabel('Images Count')\n",
    "    plt.xlabel('Classes')    \n",
    "    plt.show()\n",
    "\n",
    "plot_image_classes_distribution(y_train, n_classes)  "
   ]
  },
  {
   "cell_type": "code",
   "execution_count": 5,
   "metadata": {
    "collapsed": false
   },
   "outputs": [
    {
     "name": "stdout",
     "output_type": "stream",
     "text": [
      "2 Speed limit (50km/h) 2010\n",
      "                   2 Speed limit (50km/h)                                     2010\n",
      "1 Speed limit (30km/h) 1980\n",
      "                   1 Speed limit (30km/h)                                     1980\n",
      "13 Yield 1920\n",
      "                  13                Yield                                     1920\n",
      "12 Priority road 1890\n",
      "                  12        Priority road                                     1890\n",
      "38 Keep right 1860\n",
      "                  38           Keep right                                     1860\n",
      "10 No passing for vehicles over 3.5 metric tons 1800\n",
      "                  10 No passing for vehicles over 3.5 metric tons                                     1800\n",
      "4 Speed limit (70km/h) 1770\n",
      "                   4 Speed limit (70km/h)                                     1770\n",
      "5 Speed limit (80km/h) 1650\n",
      "                   5 Speed limit (80km/h)                                     1650\n",
      "25 Road work 1350\n",
      "                  25            Road work                                     1350\n",
      "9 No passing 1320\n",
      "                   9           No passing                                     1320\n",
      "7 Speed limit (100km/h) 1290\n",
      "                   7 Speed limit (100km/h)                                     1290\n",
      "3 Speed limit (60km/h) 1260\n",
      "                   3 Speed limit (60km/h)                                     1260\n",
      "8 Speed limit (120km/h) 1260\n",
      "                   8 Speed limit (120km/h)                                     1260\n",
      "11 Right-of-way at the next intersection 1170\n",
      "                  11 Right-of-way at the next intersection                                     1170\n",
      "18 General caution 1080\n",
      "                  18      General caution                                     1080\n",
      "35 Ahead only 1080\n",
      "                  35           Ahead only                                     1080\n",
      "17 No entry 990\n",
      "                  17             No entry                                      990\n",
      "14 Stop 690\n",
      "                  14                 Stop                                      690\n",
      "31 Wild animals crossing 690\n",
      "                  31 Wild animals crossing                                      690\n",
      "33 Turn right ahead 599\n",
      "                  33     Turn right ahead                                      599\n",
      "15 No vehicles 540\n",
      "                  15          No vehicles                                      540\n",
      "26 Traffic signals 540\n",
      "                  26      Traffic signals                                      540\n",
      "28 Children crossing 480\n",
      "                  28    Children crossing                                      480\n",
      "23 Slippery road 450\n",
      "                  23        Slippery road                                      450\n",
      "30 Beware of ice/snow 390\n",
      "                  30   Beware of ice/snow                                      390\n",
      "6 End of speed limit (80km/h) 360\n",
      "                   6 End of speed limit (80km/h)                                      360\n",
      "16 Vehicles over 3.5 metric tons prohibited 360\n",
      "                  16 Vehicles over 3.5 metric tons prohibited                                      360\n",
      "34 Turn left ahead 360\n",
      "                  34      Turn left ahead                                      360\n",
      "22 Bumpy road 330\n",
      "                  22           Bumpy road                                      330\n",
      "36 Go straight or right 330\n",
      "                  36 Go straight or right                                      330\n",
      "20 Dangerous curve to the right 300\n",
      "                  20 Dangerous curve to the right                                      300\n",
      "40 Roundabout mandatory 300\n",
      "                  40 Roundabout mandatory                                      300\n",
      "21 Double curve 270\n",
      "                  21         Double curve                                      270\n",
      "39 Keep left 270\n",
      "                  39            Keep left                                      270\n",
      "24 Road narrows on the right 240\n",
      "                  24 Road narrows on the right                                      240\n",
      "29 Bicycles crossing 240\n",
      "                  29    Bicycles crossing                                      240\n",
      "27 Pedestrians 210\n",
      "                  27          Pedestrians                                      210\n",
      "32 End of all speed and passing limits 210\n",
      "                  32 End of all speed and passing limits                                      210\n",
      "41 End of no passing 210\n",
      "                  41    End of no passing                                      210\n",
      "42 End of no passing by vehicles over 3.5 metric tons 210\n",
      "                  42 End of no passing by vehicles over 3.5 metric tons                                      210\n",
      "0 Speed limit (20km/h) 180\n",
      "                   0 Speed limit (20km/h)                                      180\n",
      "19 Dangerous curve to the left 180\n",
      "                  19 Dangerous curve to the left                                      180\n",
      "37 Go straight or left 180\n",
      "                  37  Go straight or left                                      180\n"
     ]
    }
   ],
   "source": [
    "classes, counts = np.unique(y_train, return_counts=True)\n",
    "classes_count = dict(zip(classes, counts))\n",
    "for class_index in sorted(classes_count, key=classes_count.get, reverse=True):\n",
    "    print (class_index, sign_names[class_index], classes_count[class_index])\n",
    "    print(\"{: >20} {: >20} {: >40}\".format(class_index, sign_names[class_index], classes_count[class_index]))"
   ]
  },
  {
   "cell_type": "markdown",
   "metadata": {
    "deletable": true,
    "editable": true
   },
   "source": [
    "----\n",
    "\n",
    "## Step 2: Design and Test a Model Architecture\n",
    "\n",
    "Design and implement a deep learning model that learns to recognize traffic signs. Train and test your model on the [German Traffic Sign Dataset](http://benchmark.ini.rub.de/?section=gtsrb&subsection=dataset).\n",
    "\n",
    "The LeNet-5 implementation shown in the [classroom](https://classroom.udacity.com/nanodegrees/nd013/parts/fbf77062-5703-404e-b60c-95b78b2f3f9e/modules/6df7ae49-c61c-4bb2-a23e-6527e69209ec/lessons/601ae704-1035-4287-8b11-e2c2716217ad/concepts/d4aca031-508f-4e0b-b493-e7b706120f81) at the end of the CNN lesson is a solid starting point. You'll have to change the number of classes and possibly the preprocessing, but aside from that it's plug and play! \n",
    "\n",
    "With the LeNet-5 solution from the lecture, you should expect a validation set accuracy of about 0.89. To meet specifications, the validation set accuracy will need to be at least 0.93. It is possible to get an even higher accuracy, but 0.93 is the minimum for a successful project submission. \n",
    "\n",
    "There are various aspects to consider when thinking about this problem:\n",
    "\n",
    "- Neural network architecture (is the network over or underfitting?)\n",
    "- Play around preprocessing techniques (normalization, rgb to grayscale, etc)\n",
    "- Number of examples per label (some have more than others).\n",
    "- Generate fake data.\n",
    "\n",
    "Here is an example of a [published baseline model on this problem](http://yann.lecun.com/exdb/publis/pdf/sermanet-ijcnn-11.pdf). It's not required to be familiar with the approach used in the paper but, it's good practice to try to read papers like these."
   ]
  },
  {
   "cell_type": "markdown",
   "metadata": {
    "deletable": true,
    "editable": true
   },
   "source": [
    "### Pre-process the Data Set (normalization, grayscale, etc.)"
   ]
  },
  {
   "cell_type": "markdown",
   "metadata": {
    "deletable": true,
    "editable": true
   },
   "source": [
    "Use the code cell (or multiple code cells, if necessary) to implement the first step of your project."
   ]
  },
  {
   "cell_type": "code",
   "execution_count": 6,
   "metadata": {
    "collapsed": false,
    "deletable": true,
    "editable": true
   },
   "outputs": [],
   "source": [
    "### Preprocess the data here. Preprocessing steps could include normalization, converting to grayscale, etc.\n",
    "### Feel free to use as many code cells as needed.\n",
    "from sklearn.utils import shuffle\n",
    "\n",
    "X_train, y_train = shuffle(X_train, y_train)"
   ]
  },
  {
   "cell_type": "code",
   "execution_count": 7,
   "metadata": {
    "collapsed": false,
    "deletable": true,
    "editable": true
   },
   "outputs": [],
   "source": [
    "\n",
    "### Preprocess the data here.\n",
    "import cv2\n",
    "import numpy as np\n",
    "from numpy import newaxis\n",
    "\n",
    "def preprocess_data (images_array, tag='Samples'):\n",
    "    print('--- Preprocess {}:'.format(tag))\n",
    "    # convert to B/W. Images will have only 1 channel\n",
    "    images_array_bw = np.array([cv2.cvtColor(image, cv2.COLOR_RGB2GRAY) for image in images_array])\n",
    "    # apply histogram equalization\n",
    "    images_hist = np.array([cv2.equalizeHist(image) for image in images_array_bw])\n",
    "    # reshape\n",
    "    images_reshaped = images_hist[..., newaxis]\n",
    "    print('Before shaping:', images_hist.shape)\n",
    "    print('After shaping:', images_reshaped.shape)\n",
    "    # normalize range\n",
    "    grayscale_max_value = np.max(images_reshaped)\n",
    "    images_normalized = images_reshaped / grayscale_max_value\n",
    "    print('Mean, min and max before normalizing:', np.mean(images_reshaped), np.min(images_reshaped), np.max(images_reshaped))\n",
    "    print('Mean, min and max after normalizing:', np.mean(images_normalized), np.min(images_normalized), np.max(images_normalized))\n",
    "                               \n",
    "    return images_normalized"
   ]
  },
  {
   "cell_type": "code",
   "execution_count": 8,
   "metadata": {
    "collapsed": false,
    "deletable": true,
    "editable": true
   },
   "outputs": [
    {
     "name": "stdout",
     "output_type": "stream",
     "text": [
      "--- Preprocess X_train:\n",
      "Before shaping: (34799, 32, 32)\n",
      "After shaping: (34799, 32, 32, 1)\n",
      "Mean, min and max before normalizing: 131.338788667 0 255\n",
      "Mean, min and max after normalizing: 0.515054073205 0.0 1.0\n",
      "--- Preprocess X_test:\n",
      "Before shaping: (12630, 32, 32)\n",
      "After shaping: (12630, 32, 32, 1)\n",
      "Mean, min and max before normalizing: 131.743169088 0 255\n",
      "Mean, min and max after normalizing: 0.516639878778 0.0 1.0\n",
      "--- Preprocess X_valid:\n",
      "Before shaping: (4410, 32, 32)\n",
      "After shaping: (4410, 32, 32, 1)\n",
      "Mean, min and max before normalizing: 131.611891254 0 255\n",
      "Mean, min and max after normalizing: 0.516125063741 0.0 1.0\n"
     ]
    },
    {
     "data": {
      "image/png": "[encoded data removed]",
      "text/plain": [
       "<matplotlib.figure.Figure at 0x7fbdfd923f60>"
      ]
     },
     "metadata": {},
     "output_type": "display_data"
    }
   ],
   "source": [
    "# Show example of preprocessing\n",
    "\n",
    "X_train_normalized = preprocess_data(X_train, 'X_train')\n",
    "X_test_normalized = preprocess_data(X_test, 'X_test')\n",
    "X_valid_normalized = preprocess_data(X_valid, 'X_valid')\n",
    "#ten_samples = preprocess_data(X_train[0:9], '10 samples')\n",
    "show_images_horizontally(X_train_normalized, gray=True)"
   ]
  },
  {
   "cell_type": "code",
   "execution_count": 9,
   "metadata": {
    "collapsed": true,
    "deletable": true,
    "editable": true
   },
   "outputs": [],
   "source": [
    "# This code is a simple approach of data augmentation by applying subtle flip modifications to the images.\n",
    "# The specific code for flip_extend used in this cell was taken from http://navoshta.com/traffic-signs-classification/\n",
    "\n",
    "import numpy as np\n",
    "import cv2\n",
    "\n",
    "def flip_extend(X, y):\n",
    "    # Classes of signs that, when flipped horizontally, should still be classified as the same class\n",
    "    self_flippable_horizontally = np.array([11, 12, 13, 15, 17, 18, 22, 26, 30, 35])\n",
    "    # Classes of signs that, when flipped vertically, should still be classified as the same class\n",
    "    self_flippable_vertically = np.array([1, 5, 12, 15, 17])\n",
    "    # Classes of signs that, when flipped horizontally and then vertically, should still be classified as the same class\n",
    "    self_flippable_both = np.array([32, 40])\n",
    "    # Classes of signs that, when flipped horizontally, would still be meaningful, but should be classified as some other class\n",
    "    cross_flippable = np.array([\n",
    "        [19, 20], \n",
    "        [33, 34], \n",
    "        [36, 37], \n",
    "        [38, 39],\n",
    "        [20, 19], \n",
    "        [34, 33], \n",
    "        [37, 36], \n",
    "        [39, 38],   \n",
    "    ])\n",
    "    num_classes = 43\n",
    "    \n",
    "    X_extended = np.empty([0, X.shape[1], X.shape[2], X.shape[3]], dtype = X.dtype)\n",
    "    y_extended = np.empty([0], dtype = y.dtype)\n",
    "    \n",
    "    for c in range(num_classes):\n",
    "        # First copy existing data for this class\n",
    "        X_extended = np.append(X_extended, X[y == c], axis = 0)\n",
    "        # If we can flip images of this class horizontally and they would still belong to said class...\n",
    "        if c in self_flippable_horizontally:\n",
    "            # ...Copy their flipped versions into extended array.\n",
    "            X_extended = np.append(X_extended, X[y == c][:, :, ::-1, :], axis = 0)\n",
    "        # If we can flip images of this class horizontally and they would belong to other class...\n",
    "        if c in cross_flippable[:, 0]:\n",
    "            # ...Copy flipped images of that other class to the extended array.\n",
    "            flip_class = cross_flippable[cross_flippable[:, 0] == c][0][1]\n",
    "            X_extended = np.append(X_extended, X[y == flip_class][:, :, ::-1, :], axis = 0)\n",
    "        # Fill labels for added images set to current class.\n",
    "        y_extended = np.append(y_extended, np.full((X_extended.shape[0] - y_extended.shape[0]), c, dtype = int))\n",
    "        \n",
    "        # If we can flip images of this class vertically and they would still belong to said class...\n",
    "        if c in self_flippable_vertically:\n",
    "            # ...Copy their flipped versions into extended array.\n",
    "            X_extended = np.append(X_extended, X_extended[y_extended == c][:, ::-1, :, :], axis = 0)\n",
    "        # Fill labels for added images set to current class.\n",
    "        y_extended = np.append(y_extended, np.full((X_extended.shape[0] - y_extended.shape[0]), c, dtype = int))\n",
    "        \n",
    "        # If we can flip images of this class horizontally AND vertically and they would still belong to said class...\n",
    "        if c in self_flippable_both:\n",
    "            # ...Copy their flipped versions into extended array.\n",
    "            X_extended = np.append(X_extended, X_extended[y_extended == c][:, ::-1, ::-1, :], axis = 0)\n",
    "        # Fill labels for added images set to current class.\n",
    "        y_extended = np.append(y_extended, np.full((X_extended.shape[0] - y_extended.shape[0]), c, dtype = int))\n",
    "    \n",
    "    return (X_extended, y_extended)\n",
    "\n",
    "\n",
    "def augment_brightness_camera_images(image):\n",
    "    image1 = cv2.cvtColor(image,cv2.COLOR_RGB2HSV)\n",
    "    random_bright = .25+np.random.uniform()\n",
    "    #print(random_bright)\n",
    "    image1[:,:,2] = image1[:,:,2]*random_bright\n",
    "    image1 = cv2.cvtColor(image1,cv2.COLOR_HSV2RGB)\n",
    "    return image1\n",
    "\n",
    "def transform_image(img,ang_range,shear_range,trans_range, gray=False):\n",
    "    '''\n",
    "    This function transforms images to generate new images.\n",
    "    The function takes in following arguments,\n",
    "    1- Image\n",
    "    2- ang_range: Range of angles for rotation\n",
    "    3- shear_range: Range of values to apply affine transform to\n",
    "    4- trans_range: Range of values to apply translations over. \n",
    "    \n",
    "    A Random uniform distribution is used to generate different parameters for transformation\n",
    "    \n",
    "    '''\n",
    "    # Rotation\n",
    "\n",
    "    ang_rot = np.random.uniform(ang_range)-ang_range/2\n",
    "    rows,cols,ch = img.shape    \n",
    "    Rot_M = cv2.getRotationMatrix2D((cols/2,rows/2),ang_rot,1)\n",
    "\n",
    "    # Translation\n",
    "    tr_x = trans_range*np.random.uniform()-trans_range/2\n",
    "    tr_y = trans_range*np.random.uniform()-trans_range/2\n",
    "    Trans_M = np.float32([[1,0,tr_x],[0,1,tr_y]])\n",
    "\n",
    "    # Shear\n",
    "    pts1 = np.float32([[5,5],[20,5],[5,20]])\n",
    "\n",
    "    pt1 = 5+shear_range*np.random.uniform()-shear_range/2\n",
    "    pt2 = 20+shear_range*np.random.uniform()-shear_range/2\n",
    "    \n",
    "    # Brightness     \n",
    "\n",
    "    pts2 = np.float32([[pt1,5],[pt2,pt1],[5,pt2]])\n",
    "\n",
    "    shear_M = cv2.getAffineTransform(pts1,pts2)\n",
    "        \n",
    "    img = cv2.warpAffine(img,Rot_M,(cols,rows))\n",
    "    img = cv2.warpAffine(img,Trans_M,(cols,rows))\n",
    "    img = cv2.warpAffine(img,shear_M,(cols,rows))\n",
    "    \n",
    "    if (not 'gray'):\n",
    "        img = augment_brightness_camera_images(img)\n",
    "    else:\n",
    "        img = img[..., np.newaxis]\n",
    "    \n",
    "    return img\n",
    "\n",
    "def transform_extend(samples, labels, n_transforms, gray=False):   \n",
    "    if (len(samples) != len(labels)):\n",
    "        raise ValueError('Samples and labels array must have the same length')\n",
    "    samples_extended = []\n",
    "    labels_extended = []\n",
    "    for sample, label in zip(samples, labels):        \n",
    "        for n in range(n_transforms):\n",
    "            imt = transform_image(sample,20,10,5, gray)\n",
    "            samples_extended.append(imt)\n",
    "            labels_extended.append(label)\n",
    "        if(len(samples_extended)%10000 == 0):\n",
    "                print('Images processed: ', len(samples_extended))\n",
    "    print('Total processed: ', len(samples_extended))\n",
    "    \n",
    "    samples_extended_array = np.append(samples, np.array(samples_extended), axis=0)\n",
    "    labels_extended_array = np.append(labels, np.array(labels_extended), axis=0)\n",
    "    \n",
    "    return samples_extended_array, labels_extended_array"
   ]
  },
  {
   "cell_type": "code",
   "execution_count": 10,
   "metadata": {
    "collapsed": false,
    "deletable": true,
    "editable": true
   },
   "outputs": [],
   "source": [
    "def augment_samples(samples, labels, n_transforms=2, gray=False):\n",
    "    samples_extended, labels_extended = flip_extend(samples, labels)    \n",
    "    samples_extended, labels_extended = transform_extend(samples_extended, labels_extended, n_transforms, gray)\n",
    "    return samples_extended, labels_extended"
   ]
  },
  {
   "cell_type": "code",
   "execution_count": 11,
   "metadata": {
    "collapsed": false,
    "deletable": true,
    "editable": true
   },
   "outputs": [
    {
     "name": "stdout",
     "output_type": "stream",
     "text": [
      "Images processed:  10000\n",
      "Images processed:  20000\n",
      "Images processed:  30000\n",
      "Images processed:  40000\n",
      "Images processed:  50000\n",
      "Images processed:  60000\n",
      "Images processed:  70000\n",
      "Images processed:  80000\n",
      "Images processed:  90000\n",
      "Images processed:  100000\n",
      "Images processed:  110000\n",
      "Total processed:  119576\n"
     ]
    }
   ],
   "source": [
    "X_train_extended, y_train_extended = augment_samples(X_train_normalized, y_train, gray=True)\n",
    "#X_valid_extended, y_valid_extended = augment_samples(X_valid_normalized, y_valid, gray=True)\n",
    "\n",
    "X_train_extended, y_train_extended = shuffle(X_train_extended, y_train_extended)\n",
    "#X_valid_extended, y_valid_extended = shuffle(X_valid_extended, y_valid_extended)"
   ]
  },
  {
   "cell_type": "code",
   "execution_count": 12,
   "metadata": {
    "collapsed": false,
    "deletable": true,
    "editable": true
   },
   "outputs": [
    {
     "name": "stdout",
     "output_type": "stream",
     "text": [
      "Number of samples afer augmenting:  179364\n"
     ]
    },
    {
     "data": {
      "image/png": "[encoded data removed]",
      "text/plain": [
       "<matplotlib.figure.Figure at 0x7fbded9a84e0>"
      ]
     },
     "metadata": {},
     "output_type": "display_data"
    }
   ],
   "source": [
    "print('Number of samples afer augmenting: ', X_train_extended.shape[0])\n",
    "plot_image_classes_distribution(y_train_extended, n_classes)"
   ]
  },
  {
   "cell_type": "code",
   "execution_count": 20,
   "metadata": {
    "collapsed": false,
    "deletable": true,
    "editable": true
   },
   "outputs": [
    {
     "name": "stdout",
     "output_type": "stream",
     "text": [
      "Number of samples for training:  179364\n",
      "Number of samples for validation:  4410\n"
     ]
    }
   ],
   "source": [
    "from sklearn.model_selection import train_test_split\n",
    "\n",
    "# create validation set from training data\n",
    "#X_train, X_valid, y_train, y_valid = train_test_split(X_train_extended, y_train_extended, test_size=0.2)\n",
    "X_train, y_train = X_train_extended, y_train_extended\n",
    "#X_valid, y_valid = X_valid_extended, y_valid_extended\n",
    "X_valid = X_valid_normalized\n",
    "\n",
    "print('Number of samples for training: ', X_train.shape[0])\n",
    "print('Number of samples for validation: ', X_valid.shape[0])"
   ]
  },
  {
   "cell_type": "markdown",
   "metadata": {
    "deletable": true,
    "editable": true
   },
   "source": [
    "### Model Architecture"
   ]
  },
  {
   "cell_type": "code",
   "execution_count": 21,
   "metadata": {
    "collapsed": true,
    "deletable": true,
    "editable": true
   },
   "outputs": [],
   "source": [
    "### Define your architecture here.\n",
    "### Feel free to use as many code cells as needed.\n",
    "import tensorflow as tf\n",
    "\n",
    "EPOCHS = 40\n",
    "BATCH_SIZE = 128"
   ]
  },
  {
   "cell_type": "code",
   "execution_count": 22,
   "metadata": {
    "collapsed": true,
    "deletable": true,
    "editable": true
   },
   "outputs": [],
   "source": [
    "from tensorflow.contrib.layers import flatten\n",
    "\n",
    "def LeNet(x):    \n",
    "    # Arguments used for tf.truncated_normal, randomly defines variables for the weights and biases for each layer\n",
    "    mu = 0\n",
    "    sigma = 0.1\n",
    "    \n",
    "    # Layer 1: Convolutional. Input = 32x32x1. Output = 28x28x6.\n",
    "    conv1_W = tf.Variable(tf.truncated_normal(shape=(5, 5, 1, 6), mean = mu, stddev = sigma))\n",
    "    conv1_b = tf.Variable(tf.zeros(6))\n",
    "    conv1   = tf.nn.conv2d(x, conv1_W, strides=[1, 1, 1, 1], padding='VALID') + conv1_b\n",
    "\n",
    "    # Activation.\n",
    "    #conv1 = tf.nn.relu(conv1)\n",
    "    conv1 = tf.nn.dropout(conv1, 0.8)\n",
    "\n",
    "    # Pooling. Input = 28x28x6. Output = 14x14x6.\n",
    "    conv1 = tf.nn.max_pool(conv1, ksize=[1, 2, 2, 1], strides=[1, 2, 2, 1], padding='VALID')\n",
    "\n",
    "    # Layer 2: Convolutional. Output = 10x10x16.\n",
    "    conv2_W = tf.Variable(tf.truncated_normal(shape=(5, 5, 6, 16), mean = mu, stddev = sigma))\n",
    "    conv2_b = tf.Variable(tf.zeros(16))\n",
    "    conv2   = tf.nn.conv2d(conv1, conv2_W, strides=[1, 1, 1, 1], padding='VALID') + conv2_b\n",
    "    \n",
    "    # Activation.\n",
    "    conv2 = tf.nn.relu(conv2)\n",
    "    #conv2 = tf.nn.dropout(conv2, 0.5)\n",
    "\n",
    "    # Pooling. Input = 10x10x16. Output = 5x5x16.\n",
    "    conv2 = tf.nn.max_pool(conv2, ksize=[1, 2, 2, 1], strides=[1, 2, 2, 1], padding='VALID')\n",
    "\n",
    "    # Flatten. Input = 5x5x16. Output = 400.\n",
    "    fc0   = flatten(conv2)\n",
    "    \n",
    "    # Layer 3: Fully Connected. Input = 400. Output = 120.\n",
    "    fc1_W = tf.Variable(tf.truncated_normal(shape=(400, 120), mean = mu, stddev = sigma))\n",
    "    fc1_b = tf.Variable(tf.zeros(120))\n",
    "    fc1   = tf.matmul(fc0, fc1_W) + fc1_b\n",
    "  \n",
    "    # Activation.\n",
    "    fc1    = tf.nn.relu(fc1)\n",
    "    #fc1 = tf.nn.dropout(fc1, 0.5)\n",
    "\n",
    "    # Layer 4: Fully Connected. Input = 120. Output = 84.\n",
    "    fc2_W  = tf.Variable(tf.truncated_normal(shape=(120, 84), mean = mu, stddev = sigma))\n",
    "    fc2_b  = tf.Variable(tf.zeros(84))\n",
    "    fc2    = tf.matmul(fc1, fc2_W) + fc2_b\n",
    "    \n",
    "    # Activation.\n",
    "    #fc2    = tf.nn.dropout(fc2, 0.5)\n",
    "    fc2    = tf.nn.relu(fc2)\n",
    "\n",
    "    # Layer 5: Fully Connected. Input = 84. Output = 43.\n",
    "    fc3_W  = tf.Variable(tf.truncated_normal(shape=(84, 43), mean = mu, stddev = sigma))\n",
    "    fc3_b  = tf.Variable(tf.zeros(43))\n",
    "    logits = tf.matmul(fc2, fc3_W) + fc3_b\n",
    "    \n",
    "    return logits"
   ]
  },
  {
   "cell_type": "code",
   "execution_count": 23,
   "metadata": {
    "collapsed": true,
    "deletable": true,
    "editable": true
   },
   "outputs": [],
   "source": [
    "x = tf.placeholder(tf.float32, (None, 32, 32, 1))\n",
    "y = tf.placeholder(tf.int32, (None))\n",
    "one_hot_y = tf.one_hot(y, 43)"
   ]
  },
  {
   "cell_type": "code",
   "execution_count": 24,
   "metadata": {
    "collapsed": false,
    "deletable": true,
    "editable": true
   },
   "outputs": [],
   "source": [
    "rate = 0.0008\n",
    "\n",
    "logits = LeNet(x)\n",
    "cross_entropy = tf.nn.softmax_cross_entropy_with_logits(logits = logits, labels = one_hot_y)\n",
    "loss_operation = tf.reduce_mean(cross_entropy)\n",
    "optimizer = tf.train.AdamOptimizer(learning_rate = rate)\n",
    "training_operation = optimizer.minimize(loss_operation)"
   ]
  },
  {
   "cell_type": "markdown",
   "metadata": {
    "deletable": true,
    "editable": true
   },
   "source": [
    "### Train, Validate and Test the Model"
   ]
  },
  {
   "cell_type": "code",
   "execution_count": 25,
   "metadata": {
    "collapsed": true,
    "deletable": true,
    "editable": true
   },
   "outputs": [],
   "source": [
    "correct_prediction = tf.equal(tf.argmax(logits, 1), tf.argmax(one_hot_y, 1))\n",
    "accuracy_operation = tf.reduce_mean(tf.cast(correct_prediction, tf.float32))\n",
    "saver = tf.train.Saver()\n",
    "\n",
    "def evaluate(X_data, y_data):\n",
    "    num_examples = len(X_data)\n",
    "    total_accuracy = 0\n",
    "    sess = tf.get_default_session()\n",
    "    for offset in range(0, num_examples, BATCH_SIZE):\n",
    "        batch_x, batch_y = X_data[offset:offset+BATCH_SIZE], y_data[offset:offset+BATCH_SIZE]\n",
    "        batch_x, batch_y = X_data[offset:offset+BATCH_SIZE], y_data[offset:offset+BATCH_SIZE]\n",
    "        accuracy = sess.run(accuracy_operation, feed_dict={x: batch_x, y: batch_y})\n",
    "        total_accuracy += (accuracy * len(batch_x))\n",
    "    return total_accuracy / num_examples"
   ]
  },
  {
   "cell_type": "markdown",
   "metadata": {
    "deletable": true,
    "editable": true
   },
   "source": [
    "A validation set can be used to assess how well the model is performing. A low accuracy on the training and validation\n",
    "sets imply underfitting. A high accuracy on the training set but low accuracy on the validation set implies overfitting."
   ]
  },
  {
   "cell_type": "code",
   "execution_count": 26,
   "metadata": {
    "collapsed": false,
    "deletable": true,
    "editable": true
   },
   "outputs": [
    {
     "name": "stdout",
     "output_type": "stream",
     "text": [
      "Training...\n",
      "\n",
      "EPOCH 1 ...\n",
      "Validation Accuracy = 0.738\n",
      "Time = 77.50 sec\n",
      "\n",
      "EPOCH 2 ...\n",
      "Validation Accuracy = 0.809\n",
      "Time = 77.36 sec\n",
      "\n",
      "EPOCH 3 ...\n",
      "Validation Accuracy = 0.848\n",
      "Time = 82.71 sec\n",
      "\n",
      "EPOCH 4 ...\n",
      "Validation Accuracy = 0.873\n",
      "Time = 79.88 sec\n",
      "\n",
      "EPOCH 5 ...\n",
      "Validation Accuracy = 0.879\n",
      "Time = 84.25 sec\n",
      "\n",
      "EPOCH 6 ...\n",
      "Validation Accuracy = 0.888\n",
      "Time = 81.32 sec\n",
      "\n",
      "EPOCH 7 ...\n",
      "Validation Accuracy = 0.892\n",
      "Time = 81.11 sec\n",
      "\n",
      "EPOCH 8 ...\n",
      "Validation Accuracy = 0.905\n",
      "Time = 79.53 sec\n",
      "\n",
      "EPOCH 9 ...\n",
      "Validation Accuracy = 0.907\n",
      "Time = 83.57 sec\n",
      "\n",
      "EPOCH 10 ...\n",
      "Validation Accuracy = 0.911\n",
      "Time = 82.62 sec\n",
      "\n",
      "EPOCH 11 ...\n",
      "Validation Accuracy = 0.912\n",
      "Time = 82.47 sec\n",
      "\n",
      "EPOCH 12 ...\n",
      "Validation Accuracy = 0.919\n",
      "Time = 81.32 sec\n",
      "\n",
      "EPOCH 13 ...\n",
      "Validation Accuracy = 0.922\n",
      "Time = 78.90 sec\n",
      "\n",
      "EPOCH 14 ...\n",
      "Validation Accuracy = 0.913\n",
      "Time = 81.51 sec\n",
      "\n",
      "EPOCH 15 ...\n",
      "Validation Accuracy = 0.923\n",
      "Time = 75.73 sec\n",
      "\n",
      "EPOCH 16 ...\n",
      "Validation Accuracy = 0.928\n",
      "Time = 75.01 sec\n",
      "\n",
      "EPOCH 17 ...\n",
      "Validation Accuracy = 0.921\n",
      "Time = 74.59 sec\n",
      "\n",
      "EPOCH 18 ...\n",
      "Validation Accuracy = 0.934\n",
      "Time = 78.81 sec\n",
      "\n",
      "EPOCH 19 ...\n",
      "Validation Accuracy = 0.930\n",
      "Time = 77.12 sec\n",
      "\n",
      "EPOCH 20 ...\n",
      "Validation Accuracy = 0.931\n",
      "Time = 80.13 sec\n",
      "\n",
      "EPOCH 21 ...\n",
      "Validation Accuracy = 0.937\n",
      "Time = 83.30 sec\n",
      "\n",
      "EPOCH 22 ...\n",
      "Validation Accuracy = 0.934\n",
      "Time = 78.39 sec\n",
      "\n",
      "EPOCH 23 ...\n",
      "Validation Accuracy = 0.935\n",
      "Time = 78.52 sec\n",
      "\n",
      "EPOCH 24 ...\n",
      "Validation Accuracy = 0.932\n",
      "Time = 81.73 sec\n",
      "\n",
      "EPOCH 25 ...\n",
      "Validation Accuracy = 0.928\n",
      "Time = 79.97 sec\n",
      "\n",
      "EPOCH 26 ...\n",
      "Validation Accuracy = 0.934\n",
      "Time = 78.27 sec\n",
      "\n",
      "EPOCH 27 ...\n",
      "Validation Accuracy = 0.931\n",
      "Time = 79.62 sec\n",
      "\n",
      "EPOCH 28 ...\n",
      "Validation Accuracy = 0.933\n",
      "Time = 76.07 sec\n",
      "\n",
      "EPOCH 29 ...\n",
      "Validation Accuracy = 0.939\n",
      "Time = 79.00 sec\n",
      "\n",
      "EPOCH 30 ...\n",
      "Validation Accuracy = 0.935\n",
      "Time = 77.89 sec\n",
      "\n",
      "EPOCH 31 ...\n",
      "Validation Accuracy = 0.944\n",
      "Time = 78.29 sec\n",
      "\n",
      "EPOCH 32 ...\n",
      "Validation Accuracy = 0.928\n",
      "Time = 79.40 sec\n",
      "\n",
      "EPOCH 33 ...\n",
      "Validation Accuracy = 0.946\n",
      "Time = 77.21 sec\n",
      "\n",
      "EPOCH 34 ...\n",
      "Validation Accuracy = 0.950\n",
      "Time = 80.41 sec\n",
      "\n",
      "EPOCH 35 ...\n",
      "Validation Accuracy = 0.942\n",
      "Time = 80.23 sec\n",
      "\n",
      "EPOCH 36 ...\n",
      "Validation Accuracy = 0.943\n",
      "Time = 77.82 sec\n",
      "\n",
      "EPOCH 37 ...\n",
      "Validation Accuracy = 0.941\n",
      "Time = 85.63 sec\n",
      "\n",
      "EPOCH 38 ...\n",
      "Validation Accuracy = 0.947\n",
      "Time = 78.61 sec\n",
      "\n",
      "EPOCH 39 ...\n",
      "Validation Accuracy = 0.935\n",
      "Time = 77.74 sec\n",
      "\n",
      "EPOCH 40 ...\n",
      "Validation Accuracy = 0.943\n",
      "Time = 80.59 sec\n",
      "\n",
      "Model saved\n",
      "Total time = 53.1 minutes\n"
     ]
    }
   ],
   "source": [
    "import time\n",
    "\n",
    "with tf.Session() as sess:\n",
    "    sess.run(tf.global_variables_initializer())\n",
    "    num_examples = len(X_train)\n",
    "    \n",
    "    print(\"Training...\")\n",
    "    print()\n",
    "    total_start_time =  time.time()\n",
    "    for i in range(EPOCHS):\n",
    "        start_time =  time.time()\n",
    "        X_train, y_train = shuffle(X_train, y_train)\n",
    "        for offset in range(0, num_examples, BATCH_SIZE):\n",
    "            end = offset + BATCH_SIZE\n",
    "            batch_x, batch_y = X_train[offset:end], y_train[offset:end]\n",
    "            sess.run(training_operation, feed_dict={x: batch_x, y: batch_y})\n",
    "            \n",
    "        validation_accuracy = evaluate(X_valid, y_valid)\n",
    "        print(\"EPOCH {} ...\".format(i+1))\n",
    "        print(\"Validation Accuracy = {:.3f}\".format(validation_accuracy))\n",
    "        print(\"Time = {:.2f} sec\".format(time.time() - start_time))\n",
    "        print()\n",
    "        \n",
    "    saver.save(sess, './lenet_model_save')\n",
    "    print(\"Model saved\")\n",
    "    print(\"Total time = {:.1f} minutes\".format((time.time() - total_start_time)/60))"
   ]
  },
  {
   "cell_type": "code",
   "execution_count": 27,
   "metadata": {
    "collapsed": false,
    "deletable": true,
    "editable": true
   },
   "outputs": [
    {
     "name": "stdout",
     "output_type": "stream",
     "text": [
      "Test Accuracy = 0.918\n"
     ]
    }
   ],
   "source": [
    "### Train your model here.\n",
    "### Calculate and report the accuracy on the training and validation set.\n",
    "### Once a final model architecture is selected, \n",
    "### the accuracy on the test set should be calculated and reported as well.\n",
    "### Feel free to use as many code cells as needed.\n",
    "\n",
    "# Test model accuracy\n",
    "with tf.Session() as sess:\n",
    "    #saver.restore(sess, tf.train.latest_checkpoint('.'))\n",
    "    saver.restore(sess, './lenet_model_save')\n",
    "    test_accuracy = evaluate(X_test_normalized, y_test)\n",
    "    print(\"Test Accuracy = {:.3f}\".format(test_accuracy))\n"
   ]
  },
  {
   "cell_type": "markdown",
   "metadata": {
    "deletable": true,
    "editable": true
   },
   "source": [
    "---\n",
    "\n",
    "## Step 3: Test a Model on New Images\n",
    "\n",
    "To give yourself more insight into how your model is working, download at least five pictures of German traffic signs from the web and use your model to predict the traffic sign type.\n",
    "\n",
    "You may find `signnames.csv` useful as it contains mappings from the class id (integer) to the actual sign name."
   ]
  },
  {
   "cell_type": "markdown",
   "metadata": {
    "deletable": true,
    "editable": true
   },
   "source": [
    "### Load and Output the Images"
   ]
  },
  {
   "cell_type": "code",
   "execution_count": 30,
   "metadata": {
    "collapsed": false,
    "deletable": true,
    "editable": true
   },
   "outputs": [
    {
     "name": "stdout",
     "output_type": "stream",
     "text": [
      "12569\n"
     ]
    },
    {
     "data": {
      "image/png": "[encoded data removed]",
      "text/plain": [
       "<matplotlib.figure.Figure at 0x7fbd5c450ef0>"
      ]
     },
     "metadata": {},
     "output_type": "display_data"
    }
   ],
   "source": [
    "### Load the images and plot them here.\n",
    "### Feel free to use as many code cells as needed.\n",
    "import os\n",
    "import matplotlib.image as mpimg\n",
    "from sklearn.utils import shuffle\n",
    "\n",
    "# test on own images\n",
    "own_images = np.array([mpimg.imread(\"new-test-images/GTSRB/Online-Test/Images/\" + imageName) for imageName in os.listdir(\"new-test-images/GTSRB/Online-Test/Images\")])\n",
    "print(own_images.size)\n",
    "\n",
    "own_images = shuffle(own_images)\n",
    "images_sample = own_images[0:5]\n",
    "\n",
    "resized_images = np.array([cv2.resize(image, (32, 32)) for image in images_sample]) \n",
    "\n",
    "#for image in resized_images:\n",
    " #   print(image.shape)\n",
    "  #  plt.imshow(image)\n",
    "   # print()\n",
    "    #plt.show()\n",
    "    \n",
    "count = len(resized_images)\n",
    "fig, axs = plt.subplots(1, 5, figsize=(15, 10))\n",
    "fig.subplots_adjust(hspace = .5, wspace=.05)\n",
    "axs = axs.ravel()\n",
    "for i in range(0, count):\n",
    "    image = own_images[i]\n",
    "    axs[i].imshow(image)\n"
   ]
  },
  {
   "cell_type": "markdown",
   "metadata": {
    "deletable": true,
    "editable": true
   },
   "source": [
    "### Predict the Sign Type for Each Image"
   ]
  },
  {
   "cell_type": "code",
   "execution_count": 31,
   "metadata": {
    "collapsed": false,
    "deletable": true,
    "editable": true
   },
   "outputs": [
    {
     "name": "stdout",
     "output_type": "stream",
     "text": [
      "(5, 32, 32, 3)\n",
      "--- Preprocess images_sample:\n",
      "--- Preprocess Samples:\n",
      "Before shaping: (5, 32, 32)\n",
      "After shaping: (5, 32, 32, 1)\n",
      "Mean, min and max before normalizing: 131.487109375 0 255\n",
      "Mean, min and max after normalizing: 0.515635723039 0.0 1.0\n"
     ]
    }
   ],
   "source": [
    "### Run the predictions here and use the model to output the prediction for each image.\n",
    "### Make sure to pre-process the images with the same pre-processing pipeline used earlier.\n",
    "### Feel free to use as many code cells as needed.\n",
    "print(resized_images.shape)\n",
    "print('--- Preprocess images_sample:')                               \n",
    "images_sample_normalized = preprocess_data(resized_images)"
   ]
  },
  {
   "cell_type": "code",
   "execution_count": 32,
   "metadata": {
    "collapsed": false,
    "deletable": true,
    "editable": true
   },
   "outputs": [
    {
     "name": "stdout",
     "output_type": "stream",
     "text": [
      "Testing 5 test images...\n",
      "Inferred classes: [10 11 14  9  1]\n"
     ]
    },
    {
     "data": {
      "image/png": "[encoded data removed]",
      "text/plain": [
       "<matplotlib.figure.Figure at 0x7fbd5422ba58>"
      ]
     },
     "metadata": {},
     "output_type": "display_data"
    }
   ],
   "source": [
    "with tf.Session() as sess:\n",
    "    print(\"Testing {} test images...\".format(len(images_sample_normalized)))\n",
    "    saver.restore(sess, './lenet_model_save')\n",
    "    \n",
    "    infer_sign_operation = tf.argmax(logits, 1)\n",
    "    inferred_signs = sess.run(infer_sign_operation, feed_dict={x: images_sample_normalized})\n",
    "    print(\"Inferred classes:\", inferred_signs)\n",
    "\n",
    "    count = len(images_sample_normalized)\n",
    "    fig, axs = plt.subplots(1, 5, figsize=(15, 10))\n",
    "    fig.subplots_adjust(hspace = .5, wspace=.05)\n",
    "    axs = axs.ravel()\n",
    "    for i in range(0, count):\n",
    "        image = own_images[i]\n",
    "        evaluated = inferred_signs[i]\n",
    "\n",
    "        axs[i].axis('off')\n",
    "        axs[i].set_title(sign_names[evaluated])\n",
    "        axs[i].imshow(image)"
   ]
  },
  {
   "cell_type": "markdown",
   "metadata": {
    "deletable": true,
    "editable": true
   },
   "source": [
    "### Analyze Performance"
   ]
  },
  {
   "cell_type": "code",
   "execution_count": null,
   "metadata": {
    "collapsed": false,
    "deletable": true,
    "editable": true
   },
   "outputs": [],
   "source": [
    "### Calculate the accuracy for these 5 new images. \n",
    "### For example, if the model predicted 1 out of 5 signs correctly, it's 20% accurate on these new images.\n",
    "predicted_correctly = 5\n",
    "total_signs = 5\n",
    "accuracy = predicted_correctly / total_signs * 100\n",
    "\n",
    "print('--> Manually evaluated accuracy of the model for {} new signs: {} %'.format(total_signs, accuracy))"
   ]
  },
  {
   "cell_type": "markdown",
   "metadata": {
    "deletable": true,
    "editable": true
   },
   "source": [
    "### Output Top 5 Softmax Probabilities For Each Image Found on the Web"
   ]
  },
  {
   "cell_type": "markdown",
   "metadata": {
    "deletable": true,
    "editable": true
   },
   "source": [
    "For each of the new images, print out the model's softmax probabilities to show the **certainty** of the model's predictions (limit the output to the top 5 probabilities for each image). [`tf.nn.top_k`](https://www.tensorflow.org/versions/r0.12/api_docs/python/nn.html#top_k) could prove helpful here. \n",
    "\n",
    "The example below demonstrates how tf.nn.top_k can be used to find the top k predictions for each image.\n",
    "\n",
    "`tf.nn.top_k` will return the values and indices (class ids) of the top k predictions. So if k=3, for each sign, it'll return the 3 largest probabilities (out of a possible 43) and the correspoding class ids.\n",
    "\n",
    "Take this numpy array as an example. The values in the array represent predictions. The array contains softmax probabilities for five candidate images with six possible classes. `tk.nn.top_k` is used to choose the three classes with the highest probability:\n",
    "\n",
    "```\n",
    "# (5, 6) array\n",
    "a = np.array([[ 0.24879643,  0.07032244,  0.12641572,  0.34763842,  0.07893497,\n",
    "         0.12789202],\n",
    "       [ 0.28086119,  0.27569815,  0.08594638,  0.0178669 ,  0.18063401,\n",
    "         0.15899337],\n",
    "       [ 0.26076848,  0.23664738,  0.08020603,  0.07001922,  0.1134371 ,\n",
    "         0.23892179],\n",
    "       [ 0.11943333,  0.29198961,  0.02605103,  0.26234032,  0.1351348 ,\n",
    "         0.16505091],\n",
    "       [ 0.09561176,  0.34396535,  0.0643941 ,  0.16240774,  0.24206137,\n",
    "         0.09155967]])\n",
    "```\n",
    "\n",
    "Running it through `sess.run(tf.nn.top_k(tf.constant(a), k=3))` produces:\n",
    "\n",
    "```\n",
    "TopKV2(values=array([[ 0.34763842,  0.24879643,  0.12789202],\n",
    "       [ 0.28086119,  0.27569815,  0.18063401],\n",
    "       [ 0.26076848,  0.23892179,  0.23664738],\n",
    "       [ 0.29198961,  0.26234032,  0.16505091],\n",
    "       [ 0.34396535,  0.24206137,  0.16240774]]), indices=array([[3, 0, 5],\n",
    "       [0, 1, 4],\n",
    "       [0, 5, 1],\n",
    "       [1, 3, 5],\n",
    "       [1, 4, 3]], dtype=int32))\n",
    "```\n",
    "\n",
    "Looking just at the first row we get `[ 0.34763842,  0.24879643,  0.12789202]`, you can confirm these are the 3 largest probabilities in `a`. You'll also notice `[3, 0, 5]` are the corresponding indices."
   ]
  },
  {
   "cell_type": "code",
   "execution_count": null,
   "metadata": {
    "collapsed": false,
    "deletable": true,
    "editable": true
   },
   "outputs": [],
   "source": [
    "keep_drop_out = 1.0\n",
    "predicted_labels = tf.nn.softmax(logits)\n",
    "\n",
    "with tf.Session() as sess:\n",
    "    saver.restore(sess, './lenet_model_save')\n",
    "    output = sess.run(inferred_signs, feed_dict={x:images_sample_normalized})\n",
    "    final_out = sess.run(tf.nn.top_k(output, k=5))\n",
    "    print(final_out)"
   ]
  },
  {
   "cell_type": "code",
   "execution_count": null,
   "metadata": {
    "collapsed": false,
    "deletable": true,
    "editable": true
   },
   "outputs": [],
   "source": [
    "### Print out the top five softmax probabilities for the predictions on the German traffic sign images found on the web. \n",
    "### Feel free to use as many code cells as needed.\n",
    "with tf.Session() as sess:\n",
    "    saver.restore(sess, tf.train.latest_checkpoint('.'))\n",
    "    top_k_output = sess.run(tf.nn.top_k(logits, k=5), feed_dict={x: images_sample_normalized})\n",
    "    print(top_k_output)\n"
   ]
  },
  {
   "cell_type": "markdown",
   "metadata": {
    "deletable": true,
    "editable": true
   },
   "source": [
    "---\n",
    "\n",
    "## Step 4: Visualize the Neural Network's State with Test Images\n",
    "\n",
    " This Section is not required to complete but acts as an additional excersise for understaning the output of a neural network's weights. While neural networks can be a great learning device they are often referred to as a black box. We can understand what the weights of a neural network look like better by plotting their feature maps. After successfully training your neural network you can see what it's feature maps look like by plotting the output of the network's weight layers in response to a test stimuli image. From these plotted feature maps, it's possible to see what characteristics of an image the network finds interesting. For a sign, maybe the inner network feature maps react with high activation to the sign's boundary outline or to the contrast in the sign's painted symbol.\n",
    "\n",
    " Provided for you below is the function code that allows you to get the visualization output of any tensorflow weight layer you want. The inputs to the function should be a stimuli image, one used during training or a new one you provided, and then the tensorflow variable name that represents the layer's state during the training process, for instance if you wanted to see what the [LeNet lab's](https://classroom.udacity.com/nanodegrees/nd013/parts/fbf77062-5703-404e-b60c-95b78b2f3f9e/modules/6df7ae49-c61c-4bb2-a23e-6527e69209ec/lessons/601ae704-1035-4287-8b11-e2c2716217ad/concepts/d4aca031-508f-4e0b-b493-e7b706120f81) feature maps looked like for it's second convolutional layer you could enter conv2 as the tf_activation variable.\n",
    "\n",
    "For an example of what feature map outputs look like, check out NVIDIA's results in their paper [End-to-End Deep Learning for Self-Driving Cars](https://devblogs.nvidia.com/parallelforall/deep-learning-self-driving-cars/) in the section Visualization of internal CNN State. NVIDIA was able to show that their network's inner weights had high activations to road boundary lines by comparing feature maps from an image with a clear path to one without. Try experimenting with a similar test to show that your trained network's weights are looking for interesting features, whether it's looking at differences in feature maps from images with or without a sign, or even what feature maps look like in a trained network vs a completely untrained one on the same sign image.\n",
    "\n",
    "<figure>\n",
    " <img src=\"visualize_cnn.png\" width=\"380\" alt=\"Combined Image\" />\n",
    " <figcaption>\n",
    " <p></p> \n",
    " <p style=\"text-align: center;\"> Your output should look something like this (above)</p> \n",
    " </figcaption>\n",
    "</figure>\n",
    " <p></p> \n"
   ]
  },
  {
   "cell_type": "code",
   "execution_count": null,
   "metadata": {
    "collapsed": true,
    "deletable": true,
    "editable": true
   },
   "outputs": [],
   "source": [
    "### Visualize your network's feature maps here.\n",
    "### Feel free to use as many code cells as needed.\n",
    "\n",
    "# image_input: the test image being fed into the network to produce the feature maps\n",
    "# tf_activation: should be a tf variable name used during your training procedure that represents the calculated state of a specific weight layer\n",
    "# activation_min/max: can be used to view the activation contrast in more detail, by default matplot sets min and max to the actual min and max values of the output\n",
    "# plt_num: used to plot out multiple different weight feature map sets on the same block, just extend the plt number for each new feature map entry\n",
    "\n",
    "def outputFeatureMap(image_input, tf_activation, activation_min=-1, activation_max=-1 ,plt_num=1):\n",
    "    # Here make sure to preprocess your image_input in a way your network expects\n",
    "    # with size, normalization, ect if needed\n",
    "    # image_input =\n",
    "    # Note: x should be the same name as your network's tensorflow data placeholder variable\n",
    "    # If you get an error tf_activation is not defined it maybe having trouble accessing the variable from inside a function\n",
    "    activation = tf_activation.eval(session=sess,feed_dict={x : image_input})\n",
    "    featuremaps = activation.shape[3]\n",
    "    plt.figure(plt_num, figsize=(15,15))\n",
    "    for featuremap in range(featuremaps):\n",
    "        plt.subplot(6,8, featuremap+1) # sets the number of feature maps to show on each row and column\n",
    "        plt.title('FeatureMap ' + str(featuremap)) # displays the feature map number\n",
    "        if activation_min != -1 & activation_max != -1:\n",
    "            plt.imshow(activation[0,:,:, featuremap], interpolation=\"nearest\", vmin =activation_min, vmax=activation_max, cmap=\"gray\")\n",
    "        elif activation_max != -1:\n",
    "            plt.imshow(activation[0,:,:, featuremap], interpolation=\"nearest\", vmax=activation_max, cmap=\"gray\")\n",
    "        elif activation_min !=-1:\n",
    "            plt.imshow(activation[0,:,:, featuremap], interpolation=\"nearest\", vmin=activation_min, cmap=\"gray\")\n",
    "        else:\n",
    "            plt.imshow(activation[0,:,:, featuremap], interpolation=\"nearest\", cmap=\"gray\")"
   ]
  },
  {
   "cell_type": "code",
   "execution_count": null,
   "metadata": {
    "collapsed": false,
    "deletable": true,
    "editable": true
   },
   "outputs": [],
   "source": [
    "with tf.Session() as sess:\n",
    "    saver.restore(sess, tf.train.latest_checkpoint('.'))\n",
    "    outputFeatureMap(images_sample_normalized[0], fc1, activation_min=-1, activation_max=-1 ,plt_num=1)\n"
   ]
  },
  {
   "cell_type": "markdown",
   "metadata": {
    "deletable": true,
    "editable": true
   },
   "source": [
    "### Question 9\n",
    "\n",
    "Discuss how you used the visual output of your trained network's feature maps to show that it had learned to look for interesting characteristics in traffic sign images\n"
   ]
  },
  {
   "cell_type": "markdown",
   "metadata": {
    "deletable": true,
    "editable": true
   },
   "source": [
    "**Answer:**"
   ]
  },
  {
   "cell_type": "markdown",
   "metadata": {
    "deletable": true,
    "editable": true
   },
   "source": [
    "> **Note**: Once you have completed all of the code implementations and successfully answered each question above, you may finalize your work by exporting the iPython Notebook as an HTML document. You can do this by using the menu above and navigating to  \\n\",\n",
    "    \"**File -> Download as -> HTML (.html)**. Include the finished document along with this notebook as your submission."
   ]
  },
  {
   "cell_type": "markdown",
   "metadata": {
    "deletable": true,
    "editable": true
   },
   "source": [
    "### Project Writeup\n",
    "\n",
    "Once you have completed the code implementation, document your results in a project writeup using this [template](https://github.com/udacity/CarND-Traffic-Sign-Classifier-Project/blob/master/writeup_template.md) as a guide. The writeup can be in a markdown or pdf file. "
   ]
  }
 ],
 "metadata": {
  "anaconda-cloud": {},
  "kernelspec": {
   "display_name": "Python 3",
   "language": "python",
   "name": "python3"
  },
  "language_info": {
   "codemirror_mode": {
    "name": "ipython",
    "version": 3
   },
   "file_extension": ".py",
   "mimetype": "text/x-python",
   "name": "python",
   "nbconvert_exporter": "python",
   "pygments_lexer": "ipython3",
   "version": "3.5.2"
  },
  "widgets": {
   "state": {},
   "version": "1.1.2"
  }
 },
 "nbformat": 4,
 "nbformat_minor": 1
}
